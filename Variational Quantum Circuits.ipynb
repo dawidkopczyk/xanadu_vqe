{
 "cells": [
  {
   "cell_type": "markdown",
   "metadata": {},
   "source": [
    "# Variational Quantum Circuits\n",
    "\n",
    "***\n",
    "\n",
    "## Intro\n",
    "\n",
    "Quantum algorithms based on the idea of **variational quantum circuits** can be executed on near-term quantum devices to tackle some optimization problems$^1$.\n",
    "\n",
    "What is variational quantum circuit? After reading this post, you will get an answer to the question thanks to intuitive explanation and a simple example in Python [PennyLane](https://pennylane.readthedocs.io/en/latest/index.html) library from Xanadu.\n",
    "\n",
    "***\n",
    "\n",
    "## Variational Circuit\n",
    "\n",
    "Variational circuits are a family of **hybrid quantum-classical** algorithms$^2$. The ingredients of a variational circuit are as follows:\n",
    "\n",
    "- **Parameterized quantum circuit** $U(x,\\theta)$,\n",
    "- **Output** from the quantum circuit,\n",
    "- **Learning algorithm** and objective function with respect to which, the parameterized unitary is trained.\n",
    "\n",
    "<img src=\"https://i.imgur.com/yu3rGb0.png\" title=\"The ingredients of variational circuit.\" style=\"width: 600px;\"/>\n",
    "\n",
    "We will go through each of these elements separately.\n",
    "\n",
    "\n",
    "### Parameterized quantum circuit\n",
    "\n",
    "Parameterized quantum circuit $U(x,\\theta)$ is a unitary transformation that is $\\theta$-parameterized ($\\theta$ is a vector) and $x$-parameterized ($x$ is an input vector).\n",
    "\n",
    "<img src=\"https://i.imgur.com/Yz4CrOg.png\" title=\"Variational quantum circuit is parameterized by input x and free parameters theta.\" style=\"width: 250px;\"/>\n",
    "\n",
    "We can decompose the unitary $U(x,\\theta)$ into a set of smaller unitaries. An **example** of such variational quantum circuit with $\\theta=[\\theta_1, \\theta_2, \\theta_3]^T$ is presented below:\n",
    "\n",
    "<img src=\"https://i.imgur.com/wviLmen.png\" title=\"An example of variational quantum circuit. Note that there are many ways of how you construct variational circuit architecture.\" style=\"width: 500px;\"/>\n",
    "\n",
    "where $U_0(x)$ encodes an input data $x$ into a quantum state. Unitaries such as $U_2(\\theta_2)$ are parameterized quantum gates, for instance $U_2(\\theta_2)=R_X(\\theta_2)$, which is a single-qubit rotation through angle $\\theta_2$ around the x-axis (on Bloch sphere).\n",
    "\n",
    "<img src=\"https://i.imgur.com/0qzyniG.gif\" title=\"Rotation around x axis for theta ∈ [0,2π].\" style=\"width: 300px;\"/>\n",
    "\n",
    "Take note that variational circuits can also contain gates which are not parameterized (like $H$, $\\textit{CNOT}$, etc.).\n",
    "\n",
    "\n",
    "### Output\n",
    "\n",
    "How do we extract information from $U(x,\\theta)$, i.e. how quantum information is converted into classical one?\n",
    "\n",
    "Firstly, we measure an observable $\\hat{B}$ at the output. However, a single measurement would not give much information in this case. Therefore, we repeat the measurement many times (each time we prepare the quantum circuit from scratch) to get an **estimate of expectation value**, which is a function of $x$ and $\\theta$:\n",
    "\n",
    "\\begin{align}\n",
    "f(x,\\theta) &= \\langle 0 | U^{\\dagger}(x,\\theta)\\hat{B}U(x,\\theta)) |0 \\rangle\n",
    "\\end{align}\n",
    "\n",
    "<img src=\"https://i.imgur.com/gbSxUXY.png\" title=\"Repetitive measurements constitute for an estimate of expectation value of some chosen observable.\" style=\"width: 700px;\"/>\n",
    "\n",
    "As an observable we can use a subset of [Pauli operators](https://en.wikipedia.org/wiki/Pauli_matrices) $\\{\\hat{B}\\} \\subset \\{I,\\sigma_x,\\sigma_y,\\sigma_z\\}^{\\otimes N}$ (for example $\\sigma_z$ measured on each qubit).\n",
    "\n",
    "\n",
    "### Learning algorithm\n",
    "\n",
    "The **key insight** is that $\\theta$ parameters can be adjusted so that an objective function is minimized and variational circuit produces the desired output. This sound like a supervised machine learning algorithm, and in fact variational quantum circuits can be used for that kind of purposes (see this blog post about [Quantum Circuit Learning](http://dkopczyk.quantee.co.uk/qcl/) algorithm).\n",
    "\n",
    "Typically, variational circuits are trained using classical optimization algorithm such as [gradient descent](https://en.wikipedia.org/wiki/Gradient_descent) - this is why variational circuits belong to the hybrid quantum-classical family. The objective function is $f(x,\\theta)$ usually subject to some classical post-processing.\n",
    "\n",
    "<img src=\"https://i.imgur.com/vOdTw3M.png\" title=\"Learning of variational quantum circuit involves iterative execution of quantum and classical parts of the algorithm.\" style=\"width: 600px;\"/>\n",
    "\n",
    "***\n",
    "\n",
    "## Example\n",
    "\n",
    "Ok, if it is still not clear what variational circuit does from theory, let's analyze a very simple example of a single-qubit variational circuit.\n",
    "\n",
    "### Theory\n",
    "\n",
    "We would take $U(x,\\theta)$ to be just single gate circuit and single parameterized - for example qubit rotation around y-axis i.e. $R_Y(\\theta)$ gate. Here, $\\theta$ is just a number. Moreover, we quietly assumed that our input $x$ is directly encoded as the state $\\rangle 0 |$, so that the term $x$ will disappear from our analysis.\n",
    "\n",
    "<img src=\"https://i.imgur.com/EFrhTAw.png\" title=\"Single parameterized gate circuit.\" style=\"width: 300px;\"/>\n",
    "\n",
    "The qubit after $R_Y(\\theta)$ application is in the state:\n",
    "\n",
    "\\begin{align}\n",
    "| \\psi(\\theta)\\rangle&=R_Y(\\theta)  |0\\rangle \\nonumber \\\\ &= \\begin{bmatrix} \\cos{\\frac{\\theta}{2}} & -\\sin{\\frac{\\theta}{2}} \\\\ \\sin{\\frac{\\theta}{2}} & \\cos{\\frac{\\theta}{2}} \\end{bmatrix}\\begin{bmatrix}1 \\\\ 0\\end{bmatrix} \\nonumber \\\\ &= \\begin{bmatrix} \\cos{\\frac{\\theta}{2}} \\\\ \\sin{\\frac{\\theta}{2}}\\end{bmatrix}  \\,.\n",
    "\\end{align}\n",
    "\n",
    "As an output we measure the expectation value of Pauli-Z operator $\\sigma_z$. If we would like to calculate the expectation value $f(\\theta)$ on a piece of paper it would follows as:\n",
    "\n",
    "\\begin{align}\n",
    "f(\\theta) &= \\langle 0 | R_Y^{\\dagger}(\\theta)\\sigma_z R_Y(\\theta) |0\\rangle \\nonumber \\\\ &= \\langle \\psi(\\theta) |\\sigma_z |\\psi(\\theta)\\rangle \\nonumber \\\\ &= \\begin{bmatrix} \\cos{\\frac{\\theta}{2}} & \\sin{\\frac{\\theta}{2}}\\end{bmatrix} \\begin{bmatrix}1 & 0\\\\ 0 & -1\\end{bmatrix} \\begin{bmatrix} \\cos{\\frac{\\theta}{2}} \\\\ \\sin{\\frac{\\theta}{2}}\\end{bmatrix} \\nonumber \\\\ &= \\cos^2\\left(\\frac{\\theta}{2}\\right) - \\sin^2\\left(\\frac{\\theta}{2}\\right)\n",
    "\\end{align}\n",
    "\n",
    "### Implementation\n",
    "\n",
    "Let's implement the parameterized circuit on the classical simulator and check whether the results match theory. We will use [PennyLane](https://pennylane.readthedocs.io/en/latest/index.html#) from Xanadu, as a Python library for the simulation of hybrid quantum-classical computations. As the first step, use ```$ pip install pennylane```  or follow the instructions on how to install PennyLane library [here](https://pennylane.readthedocs.io/en/latest/installing.html).\n",
    "\n",
    "We initialize the simulator of a quantum device with ```qml.device``` statement and define the circuit as a function that accepts params  argument and return an expectation value of observable $\\sigma_z$. Take note that the function decorator ``` @qml.qnode(dev)``` is used to connect circuit definition with the device."
   ]
  },
  {
   "cell_type": "code",
   "execution_count": 1,
   "metadata": {},
   "outputs": [
    {
     "name": "stdout",
     "output_type": "stream",
     "text": [
      "The expectation value 1.0\n",
      "The expectation value 0.5\n",
      "The expectation value -1.0\n"
     ]
    }
   ],
   "source": [
    "import pennylane as qml\n",
    "from pennylane import numpy as np\n",
    "\n",
    "dev = qml.device('default.qubit', wires=1)\n",
    "\n",
    "@qml.qnode(dev)\n",
    "def circuit(params):\n",
    "    qml.RY(params[0], wires=0)\n",
    "    return qml.expval.PauliZ(0)\n",
    "\n",
    "print('The expectation value {}'.format(circuit([0])))\n",
    "print('The expectation value {}'.format(circuit([np.pi/3])))\n",
    "print('The expectation value {}'.format(circuit([np.pi])))"
   ]
  },
  {
   "cell_type": "markdown",
   "metadata": {},
   "source": [
    "Well, the results are matching the theory, i.e. when we substitute $\\theta=0$, $\\theta=\\pi/3$ and $\\theta=\\pi$ into the equation we will get the same results as in PennyLane.\n",
    "\n",
    "Now, it is time to see how the circuit can be optimized to get the desired result. Our goal is to find such rotation that initial state $|0\\rangle$ is transformed into $|1\\rangle$.\n",
    "\n",
    "<img src=\"https://i.imgur.com/m9etI4q.png\" title=\"Variational circuit will be trained in order to covert |0> state into |1>.\" style=\"width: 700px;\"/>\n",
    "\n",
    "That corresponds to measuring Pauli-Z expectation value of $-1$. This is due to the fact that $|1\\rangle$ is eigenvector of $\\sigma_z$ with eigenvalue $\\lambda=-1$. Thus, the objective function minimized would be simply $f(\\theta)$."
   ]
  },
  {
   "cell_type": "code",
   "execution_count": 2,
   "metadata": {},
   "outputs": [],
   "source": [
    "def objective(var):\n",
    "    return circuit(var)"
   ]
  },
  {
   "cell_type": "markdown",
   "metadata": {},
   "source": [
    "We will initialize variational circuit with random $\\theta$:"
   ]
  },
  {
   "cell_type": "code",
   "execution_count": 3,
   "metadata": {},
   "outputs": [
    {
     "name": "stdout",
     "output_type": "stream",
     "text": [
      "Initial objective function value 0.8216827 for theta=5.68\n"
     ]
    }
   ],
   "source": [
    "np.random.seed(2019)\n",
    "initial_theta = 2*np.pi*np.random.random_sample()\n",
    "init_params = np.array([initial_theta])\n",
    "print('Initial objective function value {:.7f} for theta={:.2f}'.format(objective(init_params), initial_theta))"
   ]
  },
  {
   "cell_type": "markdown",
   "metadata": {},
   "source": [
    "and use fantastic built-in PennyLane optimizer to find the minimum of the objective function as well as run the whole quantum-classical algorithm:"
   ]
  },
  {
   "cell_type": "code",
   "execution_count": 4,
   "metadata": {},
   "outputs": [
    {
     "name": "stdout",
     "output_type": "stream",
     "text": [
      "Cost after step     1:  0.6716096\n",
      "Cost after step     2:  0.4259549\n",
      "Cost after step     3:  0.0780398\n",
      "Cost after step     4: -0.3151938\n",
      "Cost after step     5: -0.6444255\n",
      "Cost after step     6: -0.8447718\n",
      "Cost after step     7: -0.9391644\n",
      "Cost after step     8: -0.9773546\n",
      "Cost after step     9: -0.9917454\n",
      "Cost after step    10: -0.9970148\n",
      "Cost after step    11: -0.9989236\n",
      "Cost after step    12: -0.9996123\n",
      "Cost after step    13: -0.9998604\n",
      "Cost after step    14: -0.9999497\n",
      "Cost after step    15: -0.9999819\n",
      "Cost after step    16: -0.9999935\n",
      "Cost after step    17: -0.9999977\n",
      "Cost after step    18: -0.9999992\n",
      "Cost after step    19: -0.9999997\n",
      "Cost after step    20: -0.9999999\n",
      "Cost after step    21: -1.0000000\n",
      "Cost after step    22: -1.0000000\n",
      "Cost after step    23: -1.0000000\n",
      "Cost after step    24: -1.0000000\n",
      "Cost after step    25: -1.0000000\n",
      "Cost after step    26: -1.0000000\n",
      "Cost after step    27: -1.0000000\n",
      "Cost after step    28: -1.0000000\n",
      "Cost after step    29: -1.0000000\n",
      "Cost after step    30: -1.0000000\n",
      "Optimized rotation angle: [3.14159548]\n"
     ]
    }
   ],
   "source": [
    "# Initilize Gradient Descent Optimizer\n",
    "opt = qml.GradientDescentOptimizer(stepsize=0.4)\n",
    "\n",
    "# set the number of steps\n",
    "steps = 30\n",
    "# set the initial parameter values\n",
    "params = init_params\n",
    "\n",
    "for i in range(steps):\n",
    "    # update the circuit parameters\n",
    "    params = opt.step(objective, params)\n",
    "    print('Cost after step {:5d}: {: .7f}'.format(i+1, objective(params)))\n",
    "\n",
    "print('Optimized rotation angle: {}'.format(params))"
   ]
  },
  {
   "cell_type": "markdown",
   "metadata": {},
   "source": [
    "The optimized rotation angle $\\theta \\approx \\pi$, which matches theoretical result (check out yourself!).\n",
    "\n",
    "<img src=\"https://i.imgur.com/2qpGuC1.gif\" title=\"Gradient descend visualized on Bloch sphere.\" style=\"width: 300px;\"/>\n",
    "\n",
    "We found a solution to our problem: $R_Y(\\pi)$ would convert state $|0\\rangle$ to $|1\\rangle$. Of course, it just a dummy example but presents the main idea behind variational circuits.\n",
    "\n",
    "You might ask how the gradient of the variational circuit is calculated (as we use gradient descent method), but this is actually a topic for the next post! Interested readers - check out PennyLane [documentation](https://pennylane.readthedocs.io/en/latest/concepts/autograd_quantum.html).\n",
    "\n",
    "***\n",
    "\n",
    "## Summary\n",
    "To sum up, variational quantum circuit uses both classical machine and quantum device (actually quantum device simulation on classical machine, but we apply the same logic on real quantum device). The goal was to minimize some function and we accomplished that by iteratively asking the quantum device to evaluate a function $f(\\theta)$ providing the $\\theta$ parameters. These parameters were suggested by optimization algorithm executed on the classical machine.\n",
    "\n",
    "To assess the **benefits and limitations**, we should examine the particular algorithm build on the idea of variational quantum circuit:\n",
    "\n",
    "- [Variational-Quantum-Eigensolver](http://dkopczyk.quantee.co.uk/vqe/)\n",
    "- [Quantum Circuit Learning](http://dkopczyk.quantee.co.uk/qcl/)\n",
    "- [Quantum Approximate Optimization Algorithm (QAOA)](https://arxiv.org/pdf/1411.4028.pdf)\n",
    "- [Quantum Neural Networks (Continuous-variable QNN)](https://arxiv.org/abs/1806.06871)\n",
    "- [Quantum Generative Adversarial Networks (QGAN)](https://arxiv.org/abs/1804.08641)\n",
    "\n",
    "***\n",
    "\n",
    "## References\n",
    "\n",
    "1. Nikolaj Moll et al, *Quantum optimization using variational algorithms on near-term quantum devices*, Quantum Sci. Technol. 3 (2018)\n",
    "2. Jarrod R McClean, Jonathan Romero, Ryan Babbush, and Alán Aspuru-Guzik, [*The theory of variational hybrid quantum-classical algorithms*](https://arxiv.org/abs/1509.04279), New Journal of Physics, 18(2):023023, 2016."
   ]
  },
  {
   "cell_type": "code",
   "execution_count": null,
   "metadata": {},
   "outputs": [],
   "source": []
  }
 ],
 "metadata": {
  "kernelspec": {
   "display_name": "Python 3",
   "language": "python",
   "name": "python3"
  },
  "language_info": {
   "codemirror_mode": {
    "name": "ipython",
    "version": 3
   },
   "file_extension": ".py",
   "mimetype": "text/x-python",
   "name": "python",
   "nbconvert_exporter": "python",
   "pygments_lexer": "ipython3",
   "version": "3.6.1"
  }
 },
 "nbformat": 4,
 "nbformat_minor": 2
}
